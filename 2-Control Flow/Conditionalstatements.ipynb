{
 "cells": [
  {
   "cell_type": "markdown",
   "metadata": {},
   "source": [
    "# Conditional Statement"
   ]
  },
  {
   "cell_type": "code",
   "execution_count": 2,
   "metadata": {},
   "outputs": [
    {
     "name": "stdout",
     "output_type": "stream",
     "text": [
      "You are allowed to vote in the elections\n"
     ]
    }
   ],
   "source": [
    "## If statement\n",
    "\n",
    "age = 20\n",
    "\n",
    "if age>=18:\n",
    "    print(\"You are allowed to vote in the elections\")"
   ]
  },
  {
   "cell_type": "code",
   "execution_count": 4,
   "metadata": {},
   "outputs": [
    {
     "name": "stdout",
     "output_type": "stream",
     "text": [
      "You are not allowed to vote in the elections\n"
     ]
    }
   ],
   "source": [
    "## Else Statement\n",
    "\n",
    "age = 16\n",
    "\n",
    "if age>=18:\n",
    "    print(\"You are allowed to vote in the elections\")\n",
    "else:\n",
    "    print(\"You are not allowed to vote in the elections\")"
   ]
  },
  {
   "cell_type": "code",
   "execution_count": 5,
   "metadata": {},
   "outputs": [
    {
     "name": "stdout",
     "output_type": "stream",
     "text": [
      "You are allowed to vote in the elections\n"
     ]
    }
   ],
   "source": [
    "## Elif Statement\n",
    "\n",
    "age = 18\n",
    "\n",
    "if age<18:\n",
    "    print(\"You are not allowed to vote in the elections\")\n",
    "elif age==18:\n",
    "    print(\"You are allowed to vote in the elections\")\n",
    "else:\n",
    "    print(\"You are allowed to vote in the elections\")"
   ]
  },
  {
   "cell_type": "code",
   "execution_count": 18,
   "metadata": {},
   "outputs": [
    {
     "name": "stdout",
     "output_type": "stream",
     "text": [
      "The number 11 is positive\n",
      "The number 11 is odd\n"
     ]
    }
   ],
   "source": [
    "## Nested Conditional Statements\n",
    "\n",
    "num = int(input(\"Enter the number : \"))\n",
    "\n",
    "if num>=0:\n",
    "    print(\"The number\", num,\"is positive\")\n",
    "    if num%2==0:\n",
    "        print(\"The number\", num,\"is even\")\n",
    "    else:\n",
    "        print(\"The number\", num,\"is odd\")\n",
    "elif num==0:\n",
    "    print(\"The number\", num, \"is zero\")\n",
    "else:\n",
    "    print(\"The number\", num, \"is negative\")"
   ]
  },
  {
   "cell_type": "code",
   "execution_count": 21,
   "metadata": {},
   "outputs": [
    {
     "name": "stdout",
     "output_type": "stream",
     "text": [
      "2025 is not a leap year\n"
     ]
    }
   ],
   "source": [
    "# Example\n",
    "\n",
    "## Determine if a year is a leap year using nested conditional statements\n",
    "\n",
    "year = int(input(\"Enter the year : \"))\n",
    "if year%4==0:\n",
    "    if year%100==0:\n",
    "        if year%400==0:\n",
    "            print(year, \"is a leap year\")\n",
    "        else:\n",
    "            print(year, \"is not a leap year\")\n",
    "    else:\n",
    "        print(year, \"is a leap year\")\n",
    "else:   \n",
    "    print(year, \"is not a leap year\")"
   ]
  },
  {
   "cell_type": "code",
   "execution_count": 23,
   "metadata": {},
   "outputs": [
    {
     "name": "stdout",
     "output_type": "stream",
     "text": [
      "Division by zero is not allowed\n"
     ]
    }
   ],
   "source": [
    "## Assignment\n",
    "## Simple Calculator program\n",
    "# Take user input\n",
    "num1 = float(input(\"Enter the first number : \"))\n",
    "num2 = float(input(\"Enter the second number : \"))\n",
    "operation = input(\"Enter the operation (+, -, *, /) : \")\n",
    "\n",
    "# Perform the operation\n",
    "if operation==\"+\":\n",
    "    print(\"The sum of\", num1, \"and\", num2, \"is\", num1+num2)\n",
    "elif operation==\"-\":\n",
    "    print(\"The difference of\", num1, \"and\", num2, \"is\", num1-num2)\n",
    "elif operation==\"*\":\n",
    "    print(\"The product of\", num1, \"and\", num2, \"is\", num1*num2)\n",
    "elif operation==\"/\":\n",
    "    if num2==0:\n",
    "        print(\"Division by zero is not allowed\")\n",
    "    else:\n",
    "        print(\"The division of\", num1, \"and\", num2, \"is\", num1/num2)\n",
    "else:\n",
    "    print(\"Invalid operation\")"
   ]
  },
  {
   "cell_type": "code",
   "execution_count": 24,
   "metadata": {},
   "outputs": [
    {
     "name": "stdout",
     "output_type": "stream",
     "text": [
      "The ticket price is $18\n"
     ]
    }
   ],
   "source": [
    "### Determine the ticket price based on the age and whether the person is a student.\n",
    "# Ticket pricing based on age and student status\n",
    "\n",
    "# Take user input\n",
    "age = int(input(\"Enter the age : \"))\n",
    "is_student = input(\"Are you a student? (yes/no) : \").lower()\n",
    "\n",
    "# Determine ticket price\n",
    "if age<=5:\n",
    "    price = \"Free\"\n",
    "elif age<=12:\n",
    "    price = \"$10\"\n",
    "elif age<=17:\n",
    "    if is_student==\"yes\":\n",
    "        price = \"$12\"\n",
    "    else:\n",
    "        price = \"$15\"\n",
    "elif age<=64:\n",
    "    if is_student==\"yes\":\n",
    "        price = \"$18\"\n",
    "    else:\n",
    "        price = \"$25\"\n",
    "else:\n",
    "    price = \"$20\"\n",
    "\n",
    "print(\"The ticket price is\", price)\n"
   ]
  },
  {
   "cell_type": "code",
   "execution_count": null,
   "metadata": {},
   "outputs": [],
   "source": []
  }
 ],
 "metadata": {
  "kernelspec": {
   "display_name": "venv",
   "language": "python",
   "name": "python3"
  },
  "language_info": {
   "codemirror_mode": {
    "name": "ipython",
    "version": 3
   },
   "file_extension": ".py",
   "mimetype": "text/x-python",
   "name": "python",
   "nbconvert_exporter": "python",
   "pygments_lexer": "ipython3",
   "version": "3.12.0"
  }
 },
 "nbformat": 4,
 "nbformat_minor": 2
}
