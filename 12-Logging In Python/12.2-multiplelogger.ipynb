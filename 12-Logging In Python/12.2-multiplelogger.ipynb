{
 "cells": [
  {
   "cell_type": "markdown",
   "metadata": {},
   "source": [
    "# Logging with Multiple Loggers\n",
    "You can create multiple loggers for different parts of your application"
   ]
  },
  {
   "cell_type": "code",
   "execution_count": 6,
   "metadata": {},
   "outputs": [
    {
     "name": "stderr",
     "output_type": "stream",
     "text": [
      "2025-01-26 11:57:29 - module1 - DEBUG - This is a debug message from module1.\n",
      "2025-01-26 11:57:29 - module1 - INFO - This is an info message from module1.\n",
      "2025-01-26 11:57:29 - module2 - WARNING - This is a warning message from module2.\n",
      "2025-01-26 11:57:29 - module2 - ERROR - This is an error message from module2.\n"
     ]
    }
   ],
   "source": [
    "import logging\n",
    "\n",
    "# Create a logger for module1\n",
    "logger1 = logging.getLogger(\"module1\")\n",
    "logger1.setLevel(logging.DEBUG)\n",
    "\n",
    "# Create a logger for module2\n",
    "logger2 = logging.getLogger(\"module2\")\n",
    "logger2.setLevel(logging.WARNING)\n",
    "\n",
    "# Set up a file handler to log messages to 'app.log'\n",
    "file_handler = logging.FileHandler('app.log')\n",
    "file_handler.setLevel(logging.DEBUG)  # Log all levels to the file\n",
    "\n",
    "# Create a formatter for the log messages\n",
    "formatter = logging.Formatter('%(asctime)s - %(name)s - %(levelname)s - %(message)s', \n",
    "                              datefmt='%Y-%m-%d %H:%M:%S')\n",
    "file_handler.setFormatter(formatter)\n",
    "\n",
    "# Add the file handler to both loggers\n",
    "logger1.addHandler(file_handler)\n",
    "logger2.addHandler(file_handler)\n",
    "\n",
    "# Example usage of the loggers\n",
    "logger1.debug(\"This is a debug message from module1.\")\n",
    "logger1.info(\"This is an info message from module1.\")\n",
    "logger2.warning(\"This is a warning message from module2.\")\n",
    "logger2.error(\"This is an error message from module2.\")\n"
   ]
  },
  {
   "cell_type": "code",
   "execution_count": 7,
   "metadata": {},
   "outputs": [
    {
     "name": "stderr",
     "output_type": "stream",
     "text": [
      "2025-01-26 11:57:40 - module1 - DEBUG - This is debug message for module1\n",
      "2025-01-26 11:57:40 - module2 - WARNING - This is a warning message for module 2\n",
      "2025-01-26 11:57:40 - module2 - ERROR - This is an error message\n"
     ]
    }
   ],
   "source": [
    "## log message with different loggers\n",
    "logger1.debug(\"This is debug message for module1\")\n",
    "logger2.warning(\"This is a warning message for module 2\")\n",
    "logger2.error(\"This is an error message\")"
   ]
  },
  {
   "cell_type": "code",
   "execution_count": null,
   "metadata": {},
   "outputs": [],
   "source": []
  }
 ],
 "metadata": {
  "kernelspec": {
   "display_name": "venv",
   "language": "python",
   "name": "python3"
  },
  "language_info": {
   "codemirror_mode": {
    "name": "ipython",
    "version": 3
   },
   "file_extension": ".py",
   "mimetype": "text/x-python",
   "name": "python",
   "nbconvert_exporter": "python",
   "pygments_lexer": "ipython3",
   "version": "3.12.0"
  }
 },
 "nbformat": 4,
 "nbformat_minor": 2
}
