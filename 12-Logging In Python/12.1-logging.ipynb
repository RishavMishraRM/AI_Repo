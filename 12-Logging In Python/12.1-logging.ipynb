{
 "cells": [
  {
   "cell_type": "markdown",
   "metadata": {},
   "source": [
    "## Python Logging\n",
    "Logging is a crucial aspect of any application, providing a way to track events, errors, and operational information. Python's built-in logging module offers a flexible framework for emitting log messages from Python programs. In this lesson, we will cover the basics of logging, including how to configure logging, log levels, and best practices for using logging in Python applications."
   ]
  },
  {
   "cell_type": "code",
   "execution_count": 1,
   "metadata": {},
   "outputs": [
    {
     "name": "stderr",
     "output_type": "stream",
     "text": [
      "DEBUG:root:This is a debug message\n",
      "INFO:root:This is an info message\n",
      "WARNING:root:This is a warning message\n",
      "ERROR:root:This is an error message\n",
      "CRITICAL:root:This is a critical message\n"
     ]
    }
   ],
   "source": [
    "import logging \n",
    "\n",
    "## Configure the basic logging settings\n",
    "logging.basicConfig(level=logging.DEBUG)\n",
    "\n",
    "## log messages with different severity levels\n",
    "logging.debug(\"This is a debug message\")\n",
    "logging.info(\"This is an info message\")\n",
    "logging.warning(\"This is a warning message\")\n",
    "logging.error(\"This is an error message\")\n",
    "logging.critical(\"This is a critical message\")"
   ]
  },
  {
   "cell_type": "markdown",
   "metadata": {},
   "source": [
    "#### Log Levels\n",
    "Python's logging module has several log levels indicating the severity of events. The default levels are: <br><br>\n",
    "\n",
    "DEBUG: Detailed information, typically of interest only when diagnosing problems.<br>\n",
    "INFO: Confirmation that things are working as expected. <br>\n",
    "WARNING: An indication that something unexpected happened or indicative of some problem in the near future (e.g., ‘disk space low’). The software is still working as expected. <br>\n",
    "ERROR: Due to a more serious problem, the software has not been able to perform some function. <br>\n",
    "CRITICAL: A very serious error, indicating that the program itself may be unable to continue running. <br>"
   ]
  },
  {
   "cell_type": "code",
   "execution_count": 2,
   "metadata": {},
   "outputs": [
    {
     "name": "stderr",
     "output_type": "stream",
     "text": [
      "DEBUG:root:This is a debug message\n",
      "2025-01-26 11:50:46 - root - DEBUG - This is a debug message\n",
      "INFO:root:This is an info message\n",
      "2025-01-26 11:50:46 - root - INFO - This is an info message\n",
      "WARNING:root:This is a warning message\n",
      "2025-01-26 11:50:46 - root - WARNING - This is a warning message\n",
      "ERROR:root:This is an error message\n",
      "2025-01-26 11:50:46 - root - ERROR - This is an error message\n",
      "CRITICAL:root:This is a critical message\n",
      "2025-01-26 11:50:46 - root - CRITICAL - This is a critical message\n"
     ]
    }
   ],
   "source": [
    "import logging\n",
    "import os\n",
    "\n",
    "# Directory where log file will be created\n",
    "log_dir = r\"C:\\\\Users\\\\Rishav\\\\Disk\\\\AI\\\\Python\\\\12-Logging In Python\"  # Modify this to the correct path\n",
    "\n",
    "# Ensure the directory exists\n",
    "if not os.path.exists(log_dir):\n",
    "    os.makedirs(log_dir)\n",
    "\n",
    "# Path to the log file\n",
    "log_file = os.path.join(log_dir, 'app.log')\n",
    "\n",
    "# Set up logging configuration\n",
    "logger = logging.getLogger()\n",
    "logger.setLevel(logging.DEBUG)\n",
    "\n",
    "# Log to file\n",
    "file_handler = logging.FileHandler(log_file)\n",
    "file_handler.setLevel(logging.DEBUG)\n",
    "\n",
    "# Log to console\n",
    "console_handler = logging.StreamHandler()\n",
    "console_handler.setLevel(logging.DEBUG)\n",
    "\n",
    "# Define the format for the log messages\n",
    "formatter = logging.Formatter('%(asctime)s - %(name)s - %(levelname)s - %(message)s', datefmt='%Y-%m-%d %H:%M:%S')\n",
    "file_handler.setFormatter(formatter)\n",
    "console_handler.setFormatter(formatter)\n",
    "\n",
    "# Add handlers to the logger\n",
    "logger.addHandler(file_handler)\n",
    "logger.addHandler(console_handler)\n",
    "\n",
    "\n",
    "# Test logging at different severity levels\n",
    "logger.debug(\"This is a debug message\")\n",
    "logger.info(\"This is an info message\")\n",
    "logger.warning(\"This is a warning message\")\n",
    "logger.error(\"This is an error message\")\n",
    "logger.critical(\"This is a critical message\")\n"
   ]
  },
  {
   "cell_type": "code",
   "execution_count": 3,
   "metadata": {},
   "outputs": [
    {
     "name": "stderr",
     "output_type": "stream",
     "text": [
      "DEBUG:root:This is a debug message\n",
      "2025-01-26 11:50:46 - root - DEBUG - This is a debug message\n",
      "INFO:root:This is an info message\n",
      "2025-01-26 11:50:46 - root - INFO - This is an info message\n",
      "WARNING:root:This is a warning message\n",
      "2025-01-26 11:50:46 - root - WARNING - This is a warning message\n",
      "ERROR:root:This is an error message\n",
      "2025-01-26 11:50:46 - root - ERROR - This is an error message\n",
      "CRITICAL:root:This is a critical message\n",
      "2025-01-26 11:50:46 - root - CRITICAL - This is a critical message\n"
     ]
    }
   ],
   "source": [
    "## log messages with different severity levels\n",
    "logging.debug(\"This is a debug message\")\n",
    "logging.info(\"This is an info message\")\n",
    "logging.warning(\"This is a warning message\")\n",
    "logging.error(\"This is an error message\")\n",
    "logging.critical(\"This is a critical message\")"
   ]
  },
  {
   "cell_type": "code",
   "execution_count": null,
   "metadata": {},
   "outputs": [],
   "source": []
  }
 ],
 "metadata": {
  "kernelspec": {
   "display_name": "venv",
   "language": "python",
   "name": "python3"
  },
  "language_info": {
   "codemirror_mode": {
    "name": "ipython",
    "version": 3
   },
   "file_extension": ".py",
   "mimetype": "text/x-python",
   "name": "python",
   "nbconvert_exporter": "python",
   "pygments_lexer": "ipython3",
   "version": "3.12.0"
  }
 },
 "nbformat": 4,
 "nbformat_minor": 2
}
